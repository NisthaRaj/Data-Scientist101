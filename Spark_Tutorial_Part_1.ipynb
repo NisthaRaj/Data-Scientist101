{
  "nbformat": 4,
  "nbformat_minor": 0,
  "metadata": {
    "colab": {
      "provenance": [],
      "authorship_tag": "ABX9TyP1MxitLFrPhG31V2a7oB87",
      "include_colab_link": true
    },
    "kernelspec": {
      "name": "python3",
      "display_name": "Python 3"
    },
    "language_info": {
      "name": "python"
    }
  },
  "cells": [
    {
      "cell_type": "markdown",
      "metadata": {
        "id": "view-in-github",
        "colab_type": "text"
      },
      "source": [
        "<a href=\"https://colab.research.google.com/github/NisthaRaj/Data-Scientist101/blob/main/Spark_Tutorial_Part_1.ipynb\" target=\"_parent\"><img src=\"https://colab.research.google.com/assets/colab-badge.svg\" alt=\"Open In Colab\"/></a>"
      ]
    },
    {
      "cell_type": "markdown",
      "source": [
        "Testing the Connection with Apache Spark for Version1.x and Version 2.x and later"
      ],
      "metadata": {
        "id": "08xmUc_1nHhW"
      }
    },
    {
      "cell_type": "markdown",
      "source": [
        "Creating it for Version 2.x and later first"
      ],
      "metadata": {
        "id": "kIiLpIdAnYgi"
      }
    },
    {
      "cell_type": "code",
      "execution_count": 1,
      "metadata": {
        "id": "rgebhdZInC7_"
      },
      "outputs": [],
      "source": [
        "# Create Spark Context in Apache Spark version 2.x and later\n",
        "from pyspark.sql import SparkSession\n",
        "\n",
        "#Create a Spark Session\n",
        "spark= SparkSession.builder\\\n",
        "        .appName(\"MySparkApplication\")\\\n",
        "        .getOrCreate()\n",
        "\n",
        "# Get the SparkContext for the SparkSession\n",
        "sc = spark.sparkContext"
      ]
    },
    {
      "cell_type": "code",
      "source": [
        "sc"
      ],
      "metadata": {
        "colab": {
          "base_uri": "https://localhost:8080/",
          "height": 197
        },
        "id": "DEfa94pRnVDb",
        "outputId": "ea0de5ff-0b35-4c88-b68f-11ac040dd632"
      },
      "execution_count": 2,
      "outputs": [
        {
          "output_type": "execute_result",
          "data": {
            "text/plain": [
              "<SparkContext master=local[*] appName=MySparkApplication>"
            ],
            "text/html": [
              "\n",
              "        <div>\n",
              "            <p><b>SparkContext</b></p>\n",
              "\n",
              "            <p><a href=\"http://15dc093d5af3:4040\">Spark UI</a></p>\n",
              "\n",
              "            <dl>\n",
              "              <dt>Version</dt>\n",
              "                <dd><code>v3.5.1</code></dd>\n",
              "              <dt>Master</dt>\n",
              "                <dd><code>local[*]</code></dd>\n",
              "              <dt>AppName</dt>\n",
              "                <dd><code>MySparkApplication</code></dd>\n",
              "            </dl>\n",
              "        </div>\n",
              "        "
            ]
          },
          "metadata": {},
          "execution_count": 2
        }
      ]
    },
    {
      "cell_type": "code",
      "source": [
        "# Stop the current Spark Session\n",
        "sc.stop()"
      ],
      "metadata": {
        "id": "ZEsZaEZmnj01"
      },
      "execution_count": 3,
      "outputs": []
    },
    {
      "cell_type": "markdown",
      "source": [
        "Create SparkContext in Apache Spark version 1.x"
      ],
      "metadata": {
        "id": "yWDV7JganztP"
      }
    },
    {
      "cell_type": "code",
      "source": [
        "# Part 2\n",
        "#Create SparkContext in Apache Spark version 1.x\n",
        "\n",
        "from pyspark import SparkContext\n",
        "\n",
        "#Create a SparkContext Object\n",
        "sc = SparkContext(appName = \"MySparkApplication\")"
      ],
      "metadata": {
        "id": "_S0JURQhn0T_"
      },
      "execution_count": 4,
      "outputs": []
    },
    {
      "cell_type": "code",
      "source": [
        "# Run the Spark Session\n",
        "sc"
      ],
      "metadata": {
        "colab": {
          "base_uri": "https://localhost:8080/",
          "height": 197
        },
        "id": "VjW4m4mXn_2E",
        "outputId": "2a2b60d3-42e1-488d-dfa6-8bcc30a5afac"
      },
      "execution_count": 5,
      "outputs": [
        {
          "output_type": "execute_result",
          "data": {
            "text/plain": [
              "<SparkContext master=local[*] appName=MySparkApplication>"
            ],
            "text/html": [
              "\n",
              "        <div>\n",
              "            <p><b>SparkContext</b></p>\n",
              "\n",
              "            <p><a href=\"http://15dc093d5af3:4040\">Spark UI</a></p>\n",
              "\n",
              "            <dl>\n",
              "              <dt>Version</dt>\n",
              "                <dd><code>v3.5.1</code></dd>\n",
              "              <dt>Master</dt>\n",
              "                <dd><code>local[*]</code></dd>\n",
              "              <dt>AppName</dt>\n",
              "                <dd><code>MySparkApplication</code></dd>\n",
              "            </dl>\n",
              "        </div>\n",
              "        "
            ]
          },
          "metadata": {},
          "execution_count": 5
        }
      ]
    },
    {
      "cell_type": "code",
      "source": [
        "#Stop the current Spark Session\n",
        "sc.stop()"
      ],
      "metadata": {
        "id": "ocHEKEpaoGPz"
      },
      "execution_count": 6,
      "outputs": []
    }
  ]
}